{
 "cells": [
  {
   "cell_type": "markdown",
   "source": [
    "# Download Cerra"
   ],
   "metadata": {
    "collapsed": false
   }
  },
  {
   "cell_type": "code",
   "execution_count": 1,
   "outputs": [],
   "source": [
    "from download_scripts import download_cerra\n",
    "from download_scripts import download_era5\n",
    "from download_scripts import download_seasonal"
   ],
   "metadata": {
    "collapsed": false
   }
  },
  {
   "cell_type": "code",
   "execution_count": null,
   "id": "35bfc92e",
   "metadata": {
    "pycharm": {
     "is_executing": true
    }
   },
   "outputs": [],
   "source": [
    "%%time\n",
    "download_cerra(1990, 2021, r\"Z:\\Massendaten\\CERRA\",\n",
    "               variable=\"total_precipitation\")"
   ]
  },
  {
   "cell_type": "markdown",
   "source": [
    "# Download ERA5"
   ],
   "metadata": {
    "collapsed": false
   }
  },
  {
   "cell_type": "code",
   "execution_count": null,
   "outputs": [],
   "source": [
    "%%time\n",
    "download_era5(1994, 2016, r\"Z:\\Massendaten\\ERA5\", variable=\"total_precipitation\")"
   ],
   "metadata": {
    "collapsed": false
   }
  },
  {
   "cell_type": "markdown",
   "source": [
    "# Download SEAS5 Hindcasts\n",
    "* **grid**:<br>This is an important setting. SEAS5 data is by default provided interpolated to a regular 1°x1° grid. The original data however is computed on finer grids (model physics on 0320 and dynamics on T319, refer tp __[SEAS5 user guide](https://www.ecmwf.int/sites/default/files/elibrary/2021/81237-seas5-user-guide_1.pdf)__. Whilst data could be provided on the original grids, e.g. O320, it is still not clear to me if that is then actually the original data or if it was interpolated from another grid the data was stored on.\n",
    "\n",
    "* **system**: <br>You need to be careful about the system, read here: https://confluence.ecmwf.int/display/CKB/Announcements. For operational use and hindcast it should be set to the new system, i.e. 5.1 (set to \"51\"). At the time of writing (10.01.2023) however not all start months for the hindcast period of the new system 5.1 were already uploaded to Copernicus Data Store (CDS). Therefore I downloaded the data for system 5 instead.\n",
    "\n",
    "## <span style=\"color:red\">Important</span>\n",
    "**<span style=\"color:red\">Currently all lead times are downloaded by default. Modify original code in *Download_CDS_Seasonal.py* if you need shorter lead times only!</span>**\n",
    "<br>\n",
    "[**Note these important aspects for data retrieval and performance!**](https://confluence.ecmwf.int/display/CKB/Recommendations+and+efficiency+tips+for+C3S+seasonal+forecast+datasets)\n",
    "\n",
    "* \"Do NOT ask for different start months in the same request when retrieving data from the \"daily\" datasets.\""
   ],
   "metadata": {
    "collapsed": false
   }
  },
  {
   "cell_type": "code",
   "execution_count": null,
   "outputs": [],
   "source": [
    "# area = [55, 5, 47, 15, ] #lon west, lat south, lon east, lat north, here a\n",
    "# rectangular area over Thuringia\n",
    "#grid = #\"O320\"\n",
    "variable = \"total_precipitation\"\n",
    "startyear = 1994\n",
    "endyear = 2016\n",
    "path = r\"D:\\Massendaten\\ECMWF\\SEAS5_Global\"\n",
    "download_seasonal(system, form, variable, years, months, path)"
   ],
   "metadata": {
    "collapsed": false
   }
  },
  {
   "cell_type": "markdown",
   "source": [],
   "metadata": {
    "collapsed": false
   }
  },
  {
   "cell_type": "code",
   "execution_count": 2,
   "outputs": [
    {
     "name": "stderr",
     "output_type": "stream",
     "text": [
      "2023-02-13 10:33:55,408 INFO Welcome to the CDS\n",
      "2023-02-13 10:33:55,408 INFO Sending request to https://cds.climate.copernicus.eu/api/v2/resources/seasonal-monthly-single-levels\n",
      "2023-02-13 10:33:55,574 INFO Request is queued\n",
      "2023-02-13 10:33:56,627 INFO Request is running\n",
      "2023-02-13 10:34:45,155 INFO Request is failed\n",
      "2023-02-13 10:34:45,155 ERROR Message: the request you have submitted is not valid\n",
      "2023-02-13 10:34:45,170 ERROR Reason:  ECCODES ERROR   :  Wrong number of fields\n",
      "ECCODES ERROR   :  File contains 1800 GRIBs, 1800 left in internal description, 425 in request\n",
      "ECCODES ERROR   :  The fields are not considered distinct!\n",
      "\n",
      "ECCODES ERROR   :  Hint: This may be due to several fields having the same validity time.\n",
      "ECCODES ERROR   :  Try using the -T option (Do not use time of validity)\n",
      "grib_to_netcdf: Version 2.26.0\n",
      "grib_to_netcdf: Processing input file '/cache/tmp/a5ae6642-7634-4b9d-8ded-bdb625fb5a3e-adaptor.mars.external-1676280837.040179-24544-22-tmp.grib'.\n",
      "\n",
      "2023-02-13 10:34:45,170 ERROR   Traceback (most recent call last):\n",
      "2023-02-13 10:34:45,170 ERROR     File \"/opt/cdstoolbox/cdscompute/cdscompute/cdshandlers/services/handler.py\", line 59, in handle_request\n",
      "2023-02-13 10:34:45,170 ERROR       result = cached(context.method, proc, context, context.args, context.kwargs)\n",
      "2023-02-13 10:34:45,170 ERROR     File \"/opt/cdstoolbox/cdscompute/cdscompute/caching.py\", line 108, in cached\n",
      "2023-02-13 10:34:45,170 ERROR       result = proc(context, *context.args, **context.kwargs)\n",
      "2023-02-13 10:34:45,170 ERROR     File \"/opt/cdstoolbox/cdscompute/cdscompute/services.py\", line 124, in __call__\n",
      "2023-02-13 10:34:45,170 ERROR       return p(*args, **kwargs)\n",
      "2023-02-13 10:34:45,170 ERROR     File \"/opt/cdstoolbox/cdscompute/cdscompute/services.py\", line 60, in __call__\n",
      "2023-02-13 10:34:45,170 ERROR       return self.proc(context, *args, **kwargs)\n",
      "2023-02-13 10:34:45,170 ERROR     File \"/home/cds/cdsservices/services/mars/mars.py\", line 53, in external\n",
      "2023-02-13 10:34:45,170 ERROR       return mars(context, request, **kwargs)\n",
      "2023-02-13 10:34:45,170 ERROR     File \"/home/cds/cdsservices/services/mars/mars.py\", line 26, in mars\n",
      "2023-02-13 10:34:45,170 ERROR       convert_grib(context, requests, info)\n",
      "2023-02-13 10:34:45,170 ERROR     File \"/home/cds/cdsservices/services/mars/convert_grib.py\", line 24, in convert_grib\n",
      "2023-02-13 10:34:45,170 ERROR       path = convert_file(grib_file, command, reqs, info, context)\n",
      "2023-02-13 10:34:45,170 ERROR     File \"/home/cds/cdsservices/services/mars/convert_grib.py\", line 60, in convert_file\n",
      "2023-02-13 10:34:45,185 ERROR       context.run_command(*cmd, exception=NetcdfException)\n",
      "2023-02-13 10:34:45,186 ERROR     File \"/opt/cdstoolbox/cdscompute/cdscompute/context.py\", line 209, in run_command\n",
      "2023-02-13 10:34:45,186 ERROR       raise exception(call, proc.returncode, output)\n",
      "2023-02-13 10:34:45,186 ERROR   home.cds.cdsservices.services.mars.__init__.py.exceptions.NetcdfException: ECCODES ERROR   :  Wrong number of fields\n",
      "2023-02-13 10:34:45,186 ERROR   ECCODES ERROR   :  File contains 1800 GRIBs, 1800 left in internal description, 425 in request\n",
      "2023-02-13 10:34:45,186 ERROR   ECCODES ERROR   :  The fields are not considered distinct!\n"
     ]
    },
    {
     "ename": "Exception",
     "evalue": "the request you have submitted is not valid. ECCODES ERROR   :  Wrong number of fields\nECCODES ERROR   :  File contains 1800 GRIBs, 1800 left in internal description, 425 in request\nECCODES ERROR   :  The fields are not considered distinct!\n\nECCODES ERROR   :  Hint: This may be due to several fields having the same validity time.\nECCODES ERROR   :  Try using the -T option (Do not use time of validity)\ngrib_to_netcdf: Version 2.26.0\ngrib_to_netcdf: Processing input file '/cache/tmp/a5ae6642-7634-4b9d-8ded-bdb625fb5a3e-adaptor.mars.external-1676280837.040179-24544-22-tmp.grib'.\n.",
     "output_type": "error",
     "traceback": [
      "\u001B[1;31m---------------------------------------------------------------------------\u001B[0m",
      "\u001B[1;31mException\u001B[0m                                 Traceback (most recent call last)",
      "Cell \u001B[1;32mIn[2], line 5\u001B[0m\n\u001B[0;32m      1\u001B[0m \u001B[38;5;28;01mimport\u001B[39;00m \u001B[38;5;21;01mcdsapi\u001B[39;00m\n\u001B[0;32m      3\u001B[0m c \u001B[38;5;241m=\u001B[39m cdsapi\u001B[38;5;241m.\u001B[39mClient()\n\u001B[1;32m----> 5\u001B[0m \u001B[43mc\u001B[49m\u001B[38;5;241;43m.\u001B[39;49m\u001B[43mretrieve\u001B[49m\u001B[43m(\u001B[49m\n\u001B[0;32m      6\u001B[0m \u001B[43m    \u001B[49m\u001B[38;5;124;43m'\u001B[39;49m\u001B[38;5;124;43mseasonal-monthly-single-levels\u001B[39;49m\u001B[38;5;124;43m'\u001B[39;49m\u001B[43m,\u001B[49m\n\u001B[0;32m      7\u001B[0m \u001B[43m    \u001B[49m\u001B[43m{\u001B[49m\n\u001B[0;32m      8\u001B[0m \u001B[43m        \u001B[49m\u001B[38;5;124;43m'\u001B[39;49m\u001B[38;5;124;43mformat\u001B[39;49m\u001B[38;5;124;43m'\u001B[39;49m\u001B[43m:\u001B[49m\u001B[43m \u001B[49m\u001B[38;5;124;43m'\u001B[39;49m\u001B[38;5;124;43mnetcdf\u001B[39;49m\u001B[38;5;124;43m'\u001B[39;49m\u001B[43m,\u001B[49m\n\u001B[0;32m      9\u001B[0m \u001B[43m        \u001B[49m\u001B[38;5;124;43m'\u001B[39;49m\u001B[38;5;124;43moriginating_centre\u001B[39;49m\u001B[38;5;124;43m'\u001B[39;49m\u001B[43m:\u001B[49m\u001B[43m \u001B[49m\u001B[38;5;124;43m'\u001B[39;49m\u001B[38;5;124;43mecmwf\u001B[39;49m\u001B[38;5;124;43m'\u001B[39;49m\u001B[43m,\u001B[49m\n\u001B[0;32m     10\u001B[0m \u001B[43m        \u001B[49m\u001B[38;5;124;43m'\u001B[39;49m\u001B[38;5;124;43msystem\u001B[39;49m\u001B[38;5;124;43m'\u001B[39;49m\u001B[43m:\u001B[49m\u001B[43m \u001B[49m\u001B[38;5;124;43m'\u001B[39;49m\u001B[38;5;124;43m5\u001B[39;49m\u001B[38;5;124;43m'\u001B[39;49m\u001B[43m,\u001B[49m\n\u001B[0;32m     11\u001B[0m \u001B[43m        \u001B[49m\u001B[38;5;124;43m'\u001B[39;49m\u001B[38;5;124;43mvariable\u001B[39;49m\u001B[38;5;124;43m'\u001B[39;49m\u001B[43m:\u001B[49m\u001B[43m \u001B[49m\u001B[38;5;124;43m'\u001B[39;49m\u001B[38;5;124;43mtotal_precipitation\u001B[39;49m\u001B[38;5;124;43m'\u001B[39;49m\u001B[43m,\u001B[49m\n\u001B[0;32m     12\u001B[0m \u001B[43m        \u001B[49m\u001B[38;5;124;43m'\u001B[39;49m\u001B[38;5;124;43mproduct_type\u001B[39;49m\u001B[38;5;124;43m'\u001B[39;49m\u001B[43m:\u001B[49m\u001B[43m \u001B[49m\u001B[38;5;124;43m'\u001B[39;49m\u001B[38;5;124;43mmonthly_mean\u001B[39;49m\u001B[38;5;124;43m'\u001B[39;49m\u001B[43m,\u001B[49m\n\u001B[0;32m     13\u001B[0m \u001B[43m        \u001B[49m\u001B[38;5;124;43m'\u001B[39;49m\u001B[38;5;124;43myear\u001B[39;49m\u001B[38;5;124;43m'\u001B[39;49m\u001B[43m:\u001B[49m\u001B[43m \u001B[49m\u001B[38;5;124;43m'\u001B[39;49m\u001B[38;5;124;43m1994\u001B[39;49m\u001B[38;5;124;43m'\u001B[39;49m\u001B[43m,\u001B[49m\n\u001B[0;32m     14\u001B[0m \u001B[43m        \u001B[49m\u001B[38;5;124;43m'\u001B[39;49m\u001B[38;5;124;43mmonth\u001B[39;49m\u001B[38;5;124;43m'\u001B[39;49m\u001B[43m:\u001B[49m\u001B[43m \u001B[49m\u001B[43m[\u001B[49m\n\u001B[0;32m     15\u001B[0m \u001B[43m            \u001B[49m\u001B[38;5;124;43m'\u001B[39;49m\u001B[38;5;124;43m01\u001B[39;49m\u001B[38;5;124;43m'\u001B[39;49m\u001B[43m,\u001B[49m\u001B[43m \u001B[49m\u001B[38;5;124;43m'\u001B[39;49m\u001B[38;5;124;43m02\u001B[39;49m\u001B[38;5;124;43m'\u001B[39;49m\u001B[43m,\u001B[49m\u001B[43m \u001B[49m\u001B[38;5;124;43m'\u001B[39;49m\u001B[38;5;124;43m03\u001B[39;49m\u001B[38;5;124;43m'\u001B[39;49m\u001B[43m,\u001B[49m\n\u001B[0;32m     16\u001B[0m \u001B[43m            \u001B[49m\u001B[38;5;124;43m'\u001B[39;49m\u001B[38;5;124;43m04\u001B[39;49m\u001B[38;5;124;43m'\u001B[39;49m\u001B[43m,\u001B[49m\u001B[43m \u001B[49m\u001B[38;5;124;43m'\u001B[39;49m\u001B[38;5;124;43m05\u001B[39;49m\u001B[38;5;124;43m'\u001B[39;49m\u001B[43m,\u001B[49m\u001B[43m \u001B[49m\u001B[38;5;124;43m'\u001B[39;49m\u001B[38;5;124;43m06\u001B[39;49m\u001B[38;5;124;43m'\u001B[39;49m\u001B[43m,\u001B[49m\n\u001B[0;32m     17\u001B[0m \u001B[43m            \u001B[49m\u001B[38;5;124;43m'\u001B[39;49m\u001B[38;5;124;43m07\u001B[39;49m\u001B[38;5;124;43m'\u001B[39;49m\u001B[43m,\u001B[49m\u001B[43m \u001B[49m\u001B[38;5;124;43m'\u001B[39;49m\u001B[38;5;124;43m08\u001B[39;49m\u001B[38;5;124;43m'\u001B[39;49m\u001B[43m,\u001B[49m\u001B[43m \u001B[49m\u001B[38;5;124;43m'\u001B[39;49m\u001B[38;5;124;43m09\u001B[39;49m\u001B[38;5;124;43m'\u001B[39;49m\u001B[43m,\u001B[49m\n\u001B[0;32m     18\u001B[0m \u001B[43m            \u001B[49m\u001B[38;5;124;43m'\u001B[39;49m\u001B[38;5;124;43m10\u001B[39;49m\u001B[38;5;124;43m'\u001B[39;49m\u001B[43m,\u001B[49m\u001B[43m \u001B[49m\u001B[38;5;124;43m'\u001B[39;49m\u001B[38;5;124;43m11\u001B[39;49m\u001B[38;5;124;43m'\u001B[39;49m\u001B[43m,\u001B[49m\u001B[43m \u001B[49m\u001B[38;5;124;43m'\u001B[39;49m\u001B[38;5;124;43m12\u001B[39;49m\u001B[38;5;124;43m'\u001B[39;49m\u001B[43m,\u001B[49m\n\u001B[0;32m     19\u001B[0m \u001B[43m        \u001B[49m\u001B[43m]\u001B[49m\u001B[43m,\u001B[49m\n\u001B[0;32m     20\u001B[0m \u001B[43m        \u001B[49m\u001B[38;5;124;43m'\u001B[39;49m\u001B[38;5;124;43mleadtime_month\u001B[39;49m\u001B[38;5;124;43m'\u001B[39;49m\u001B[43m:\u001B[49m\u001B[43m \u001B[49m\u001B[43m[\u001B[49m\n\u001B[0;32m     21\u001B[0m \u001B[43m            \u001B[49m\u001B[38;5;124;43m'\u001B[39;49m\u001B[38;5;124;43m1\u001B[39;49m\u001B[38;5;124;43m'\u001B[39;49m\u001B[43m,\u001B[49m\u001B[43m \u001B[49m\u001B[38;5;124;43m'\u001B[39;49m\u001B[38;5;124;43m2\u001B[39;49m\u001B[38;5;124;43m'\u001B[39;49m\u001B[43m,\u001B[49m\u001B[43m \u001B[49m\u001B[38;5;124;43m'\u001B[39;49m\u001B[38;5;124;43m3\u001B[39;49m\u001B[38;5;124;43m'\u001B[39;49m\u001B[43m,\u001B[49m\n\u001B[0;32m     22\u001B[0m \u001B[43m            \u001B[49m\u001B[38;5;124;43m'\u001B[39;49m\u001B[38;5;124;43m4\u001B[39;49m\u001B[38;5;124;43m'\u001B[39;49m\u001B[43m,\u001B[49m\u001B[43m \u001B[49m\u001B[38;5;124;43m'\u001B[39;49m\u001B[38;5;124;43m5\u001B[39;49m\u001B[38;5;124;43m'\u001B[39;49m\u001B[43m,\u001B[49m\u001B[43m \u001B[49m\u001B[38;5;124;43m'\u001B[39;49m\u001B[38;5;124;43m6\u001B[39;49m\u001B[38;5;124;43m'\u001B[39;49m\u001B[43m,\u001B[49m\n\u001B[0;32m     23\u001B[0m \u001B[43m        \u001B[49m\u001B[43m]\u001B[49m\u001B[43m,\u001B[49m\n\u001B[0;32m     24\u001B[0m \u001B[43m    \u001B[49m\u001B[43m}\u001B[49m\u001B[43m,\u001B[49m\n\u001B[0;32m     25\u001B[0m \u001B[43m    \u001B[49m\u001B[38;5;124;43m'\u001B[39;49m\u001B[38;5;124;43mdownload.nc\u001B[39;49m\u001B[38;5;124;43m'\u001B[39;49m\u001B[43m)\u001B[49m\n",
      "File \u001B[1;32m~\\.conda\\envs\\Thesis2\\lib\\site-packages\\cdsapi\\api.py:348\u001B[0m, in \u001B[0;36mClient.retrieve\u001B[1;34m(self, name, request, target)\u001B[0m\n\u001B[0;32m    347\u001B[0m \u001B[38;5;28;01mdef\u001B[39;00m \u001B[38;5;21mretrieve\u001B[39m(\u001B[38;5;28mself\u001B[39m, name, request, target\u001B[38;5;241m=\u001B[39m\u001B[38;5;28;01mNone\u001B[39;00m):\n\u001B[1;32m--> 348\u001B[0m     result \u001B[38;5;241m=\u001B[39m \u001B[38;5;28;43mself\u001B[39;49m\u001B[38;5;241;43m.\u001B[39;49m\u001B[43m_api\u001B[49m\u001B[43m(\u001B[49m\u001B[38;5;124;43m\"\u001B[39;49m\u001B[38;5;132;43;01m%s\u001B[39;49;00m\u001B[38;5;124;43m/resources/\u001B[39;49m\u001B[38;5;132;43;01m%s\u001B[39;49;00m\u001B[38;5;124;43m\"\u001B[39;49m\u001B[43m \u001B[49m\u001B[38;5;241;43m%\u001B[39;49m\u001B[43m \u001B[49m\u001B[43m(\u001B[49m\u001B[38;5;28;43mself\u001B[39;49m\u001B[38;5;241;43m.\u001B[39;49m\u001B[43murl\u001B[49m\u001B[43m,\u001B[49m\u001B[43m \u001B[49m\u001B[43mname\u001B[49m\u001B[43m)\u001B[49m\u001B[43m,\u001B[49m\u001B[43m \u001B[49m\u001B[43mrequest\u001B[49m\u001B[43m,\u001B[49m\u001B[43m \u001B[49m\u001B[38;5;124;43m\"\u001B[39;49m\u001B[38;5;124;43mPOST\u001B[39;49m\u001B[38;5;124;43m\"\u001B[39;49m\u001B[43m)\u001B[49m\n\u001B[0;32m    349\u001B[0m     \u001B[38;5;28;01mif\u001B[39;00m target \u001B[38;5;129;01mis\u001B[39;00m \u001B[38;5;129;01mnot\u001B[39;00m \u001B[38;5;28;01mNone\u001B[39;00m:\n\u001B[0;32m    350\u001B[0m         result\u001B[38;5;241m.\u001B[39mdownload(target)\n",
      "File \u001B[1;32m~\\.conda\\envs\\Thesis2\\lib\\site-packages\\cdsapi\\api.py:506\u001B[0m, in \u001B[0;36mClient._api\u001B[1;34m(self, url, request, method)\u001B[0m\n\u001B[0;32m    504\u001B[0m             \u001B[38;5;28;01mbreak\u001B[39;00m\n\u001B[0;32m    505\u001B[0m         \u001B[38;5;28mself\u001B[39m\u001B[38;5;241m.\u001B[39merror(\u001B[38;5;124m\"\u001B[39m\u001B[38;5;124m  \u001B[39m\u001B[38;5;132;01m%s\u001B[39;00m\u001B[38;5;124m\"\u001B[39m, n)\n\u001B[1;32m--> 506\u001B[0m     \u001B[38;5;28;01mraise\u001B[39;00m \u001B[38;5;167;01mException\u001B[39;00m(\n\u001B[0;32m    507\u001B[0m         \u001B[38;5;124m\"\u001B[39m\u001B[38;5;132;01m%s\u001B[39;00m\u001B[38;5;124m. \u001B[39m\u001B[38;5;132;01m%s\u001B[39;00m\u001B[38;5;124m.\u001B[39m\u001B[38;5;124m\"\u001B[39m\n\u001B[0;32m    508\u001B[0m         \u001B[38;5;241m%\u001B[39m (reply[\u001B[38;5;124m\"\u001B[39m\u001B[38;5;124merror\u001B[39m\u001B[38;5;124m\"\u001B[39m]\u001B[38;5;241m.\u001B[39mget(\u001B[38;5;124m\"\u001B[39m\u001B[38;5;124mmessage\u001B[39m\u001B[38;5;124m\"\u001B[39m), reply[\u001B[38;5;124m\"\u001B[39m\u001B[38;5;124merror\u001B[39m\u001B[38;5;124m\"\u001B[39m]\u001B[38;5;241m.\u001B[39mget(\u001B[38;5;124m\"\u001B[39m\u001B[38;5;124mreason\u001B[39m\u001B[38;5;124m\"\u001B[39m))\n\u001B[0;32m    509\u001B[0m     )\n\u001B[0;32m    511\u001B[0m \u001B[38;5;28;01mraise\u001B[39;00m \u001B[38;5;167;01mException\u001B[39;00m(\u001B[38;5;124m\"\u001B[39m\u001B[38;5;124mUnknown API state [\u001B[39m\u001B[38;5;132;01m%s\u001B[39;00m\u001B[38;5;124m]\u001B[39m\u001B[38;5;124m\"\u001B[39m \u001B[38;5;241m%\u001B[39m (reply[\u001B[38;5;124m\"\u001B[39m\u001B[38;5;124mstate\u001B[39m\u001B[38;5;124m\"\u001B[39m],))\n",
      "\u001B[1;31mException\u001B[0m: the request you have submitted is not valid. ECCODES ERROR   :  Wrong number of fields\nECCODES ERROR   :  File contains 1800 GRIBs, 1800 left in internal description, 425 in request\nECCODES ERROR   :  The fields are not considered distinct!\n\nECCODES ERROR   :  Hint: This may be due to several fields having the same validity time.\nECCODES ERROR   :  Try using the -T option (Do not use time of validity)\ngrib_to_netcdf: Version 2.26.0\ngrib_to_netcdf: Processing input file '/cache/tmp/a5ae6642-7634-4b9d-8ded-bdb625fb5a3e-adaptor.mars.external-1676280837.040179-24544-22-tmp.grib'.\n."
     ]
    }
   ],
   "source": [
    "import cdsapi\n",
    "\n",
    "c = cdsapi.Client()\n",
    "\n",
    "c.retrieve(\n",
    "    'seasonal-monthly-single-levels',\n",
    "    {\n",
    "        'format': 'netcdf',\n",
    "        'originating_centre': 'ecmwf',\n",
    "        'system': '5',\n",
    "        'variable': 'total_precipitation',\n",
    "        'product_type': 'monthly_mean',\n",
    "        'year': '1994',\n",
    "        'month': [\n",
    "            '01', '02', '03',\n",
    "            '04', '05', '06',\n",
    "            '07', '08', '09',\n",
    "            '10', '11', '12',\n",
    "        ],\n",
    "        'leadtime_month': [\n",
    "            '1', '2', '3',\n",
    "            '4', '5', '6',\n",
    "        ],\n",
    "    },\n",
    "    'download.nc')"
   ],
   "metadata": {
    "collapsed": false
   }
  },
  {
   "cell_type": "markdown",
   "source": [
    "# Important links\n",
    "* https://cds.climate.copernicus.eu/live/limits\n",
    "* https://confluence.ecmwf.int/display/CKB/C3S+Documentation+Centre\n",
    "* https://confluence.ecmwf.int/display/CKB/Recommendations+and+efficiency+tips+for+C3S+seasonal+forecast+datasets\n",
    "    * grid=av returns data on original grid!?!"
   ],
   "metadata": {
    "collapsed": false
   }
  }
 ],
 "metadata": {
  "kernelspec": {
   "display_name": "Python 3 (ipykernel)",
   "language": "python",
   "name": "python3"
  },
  "language_info": {
   "codemirror_mode": {
    "name": "ipython",
    "version": 3
   },
   "file_extension": ".py",
   "mimetype": "text/x-python",
   "name": "python",
   "nbconvert_exporter": "python",
   "pygments_lexer": "ipython3",
   "version": "3.8.15"
  }
 },
 "nbformat": 4,
 "nbformat_minor": 5
}
