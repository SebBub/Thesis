{
 "cells": [
  {
   "cell_type": "code",
   "execution_count": 1,
   "outputs": [],
   "source": [
    "from Download_CDS_Reanalysis import download_era5"
   ],
   "metadata": {
    "collapsed": false
   }
  },
  {
   "cell_type": "code",
   "execution_count": 2,
   "id": "35bfc92e",
   "metadata": {},
   "outputs": [
    {
     "name": "stderr",
     "output_type": "stream",
     "text": [
      "2023-01-25 17:27:59,539 INFO Attempting to download files for years 1994 to 2016 to Z:\\Massendaten\\ERA5\n",
      "2023-01-25 17:27:59,539 INFO Checking if ERA5-hourly-single-levels_1994.nc already exists\n",
      "2023-01-25 17:27:59,539 INFO File already exists!\n",
      "2023-01-25 17:27:59,539 INFO Checking if ERA5-hourly-single-levels_1995.nc already exists\n",
      "2023-01-25 17:27:59,539 INFO File already exists!\n",
      "2023-01-25 17:27:59,554 INFO Checking if ERA5-hourly-single-levels_1996.nc already exists\n",
      "2023-01-25 17:27:59,554 INFO File already exists!\n",
      "2023-01-25 17:27:59,554 INFO Checking if ERA5-hourly-single-levels_1997.nc already exists\n",
      "2023-01-25 17:27:59,554 INFO File already exists!\n",
      "2023-01-25 17:27:59,554 INFO Checking if ERA5-hourly-single-levels_1998.nc already exists\n",
      "2023-01-25 17:27:59,554 INFO File already exists!\n",
      "2023-01-25 17:27:59,554 INFO Checking if ERA5-hourly-single-levels_1999.nc already exists\n",
      "2023-01-25 17:27:59,554 INFO File already exists!\n",
      "2023-01-25 17:27:59,554 INFO Checking if ERA5-hourly-single-levels_2000.nc already exists\n",
      "2023-01-25 17:27:59,554 INFO File already exists!\n",
      "2023-01-25 17:27:59,554 INFO Checking if ERA5-hourly-single-levels_2001.nc already exists\n",
      "2023-01-25 17:27:59,554 INFO File already exists!\n",
      "2023-01-25 17:27:59,554 INFO Checking if ERA5-hourly-single-levels_2002.nc already exists\n",
      "2023-01-25 17:27:59,554 INFO File already exists!\n",
      "2023-01-25 17:27:59,554 INFO Checking if ERA5-hourly-single-levels_2003.nc already exists\n",
      "2023-01-25 17:27:59,568 INFO Trying to download ERA5-hourly-single-levels_2003.nc\n",
      "2023-01-25 17:28:00,020 INFO Welcome to the CDS\n",
      "2023-01-25 17:28:00,020 INFO Sending request to https://cds.climate.copernicus.eu/api/v2/resources/reanalysis-era5-single-levels\n",
      "2023-01-25 17:28:00,240 INFO Request is completed\n",
      "2023-01-25 17:28:00,240 INFO Downloading https://download-0011-clone.copernicus-climate.eu/cache-compute-0011/cache/data4/adaptor.mars.internal-1674606261.1551178-13127-3-ef7e7e4b-dcc2-4d72-bbfd-be98eb4da79d.nc to Z:\\Massendaten\\ERA5\\ERA5-hourly-single-levels_2003.nc (16.9G)\n",
      "2023-01-25 18:23:57,384 INFO Download rate 5.2M/s     \n",
      "2023-01-25 18:23:57,870 INFO Successfully downloaded ERA5-hourly-single-levels_2003.nc\n",
      "2023-01-25 18:23:57,870 INFO Checking if ERA5-hourly-single-levels_2004.nc already exists\n",
      "2023-01-25 18:23:57,870 INFO Trying to download ERA5-hourly-single-levels_2004.nc\n",
      "2023-01-25 18:23:57,917 INFO Welcome to the CDS\n",
      "2023-01-25 18:23:57,917 INFO Sending request to https://cds.climate.copernicus.eu/api/v2/resources/reanalysis-era5-single-levels\n",
      "2023-01-25 18:23:58,200 INFO Downloading https://download-0012-clone.copernicus-climate.eu/cache-compute-0012/cache/data7/adaptor.mars.internal-1674608060.318231-5690-15-811947c0-d922-4c9c-ba4e-c1939acfb406.nc to Z:\\Massendaten\\ERA5\\ERA5-hourly-single-levels_2004.nc (17G)\n",
      "2023-01-25 19:18:24,606 INFO Download rate 5.3M/s        \n",
      "2023-01-25 19:18:25,172 INFO Successfully downloaded ERA5-hourly-single-levels_2004.nc\n",
      "2023-01-25 19:18:25,172 INFO Checking if ERA5-hourly-single-levels_2005.nc already exists\n",
      "2023-01-25 19:18:25,172 INFO Trying to download ERA5-hourly-single-levels_2005.nc\n",
      "2023-01-25 19:18:25,203 INFO Welcome to the CDS\n",
      "2023-01-25 19:18:25,219 INFO Sending request to https://cds.climate.copernicus.eu/api/v2/resources/reanalysis-era5-single-levels\n",
      "2023-01-25 19:18:25,423 INFO Downloading https://download-0019.copernicus-climate.eu/cache-compute-0019/cache/data3/adaptor.mars.internal-1674610326.8567536-17001-3-9f64bac9-fdae-49d5-88d1-cbbee104fbd2.nc to Z:\\Massendaten\\ERA5\\ERA5-hourly-single-levels_2005.nc (16.9G)\n",
      "2023-01-25 20:15:46,252 INFO Download rate 5M/s       \n",
      "2023-01-25 20:15:46,724 INFO Successfully downloaded ERA5-hourly-single-levels_2005.nc\n",
      "2023-01-25 20:15:46,724 INFO Checking if ERA5-hourly-single-levels_2006.nc already exists\n",
      "2023-01-25 20:15:46,724 INFO Trying to download ERA5-hourly-single-levels_2006.nc\n",
      "2023-01-25 20:15:46,771 INFO Welcome to the CDS\n",
      "2023-01-25 20:15:46,771 INFO Sending request to https://cds.climate.copernicus.eu/api/v2/resources/reanalysis-era5-single-levels\n",
      "2023-01-25 20:15:47,022 INFO Downloading https://download-0019.copernicus-climate.eu/cache-compute-0019/cache/data0/adaptor.mars.internal-1674611820.1345959-29374-7-cced6e69-c4c0-4374-9fb7-2aac451bc7ff.nc to Z:\\Massendaten\\ERA5\\ERA5-hourly-single-levels_2006.nc (16.9G)\n",
      "2023-01-25 21:15:57,326 INFO Download rate 4.8M/s     \n",
      "2023-01-25 21:15:57,816 INFO Successfully downloaded ERA5-hourly-single-levels_2006.nc\n",
      "2023-01-25 21:15:57,816 INFO Checking if ERA5-hourly-single-levels_2007.nc already exists\n",
      "2023-01-25 21:15:57,816 INFO Trying to download ERA5-hourly-single-levels_2007.nc\n",
      "2023-01-25 21:15:57,863 INFO Welcome to the CDS\n",
      "2023-01-25 21:15:57,863 INFO Sending request to https://cds.climate.copernicus.eu/api/v2/resources/reanalysis-era5-single-levels\n",
      "2023-01-25 21:15:58,068 INFO Downloading https://download-0007-clone.copernicus-climate.eu/cache-compute-0007/cache/data6/adaptor.mars.internal-1674614869.9787018-5299-15-91dcfd41-e510-46d6-8088-fbc17a0e8a80.nc to Z:\\Massendaten\\ERA5\\ERA5-hourly-single-levels_2007.nc (16.9G)\n",
      "2023-01-25 22:11:29,628 INFO Download rate 5.2M/s     \n",
      "2023-01-25 22:11:30,115 INFO Successfully downloaded ERA5-hourly-single-levels_2007.nc\n",
      "2023-01-25 22:11:30,115 INFO Checking if ERA5-hourly-single-levels_2008.nc already exists\n",
      "2023-01-25 22:11:30,115 INFO Trying to download ERA5-hourly-single-levels_2008.nc\n",
      "2023-01-25 22:11:30,162 INFO Welcome to the CDS\n",
      "2023-01-25 22:11:30,162 INFO Sending request to https://cds.climate.copernicus.eu/api/v2/resources/reanalysis-era5-single-levels\n",
      "2023-01-25 22:11:30,369 INFO Downloading https://download-0008-clone.copernicus-climate.eu/cache-compute-0008/cache/data8/adaptor.mars.internal-1674616369.864226-17665-15-2b1c44bb-4649-4222-8aa9-21a376a5eaae.nc to Z:\\Massendaten\\ERA5\\ERA5-hourly-single-levels_2008.nc (17G)\n",
      "2023-01-25 23:04:08,533 INFO Download rate 5.5M/s      \n",
      "2023-01-25 23:04:09,099 INFO Successfully downloaded ERA5-hourly-single-levels_2008.nc\n",
      "2023-01-25 23:04:09,099 INFO Checking if ERA5-hourly-single-levels_2009.nc already exists\n",
      "2023-01-25 23:04:09,099 INFO Trying to download ERA5-hourly-single-levels_2009.nc\n",
      "2023-01-25 23:04:09,145 INFO Welcome to the CDS\n",
      "2023-01-25 23:04:09,145 INFO Sending request to https://cds.climate.copernicus.eu/api/v2/resources/reanalysis-era5-single-levels\n",
      "2023-01-25 23:04:09,318 INFO Request is queued\n",
      "2023-01-25 23:04:10,369 INFO Request is running\n",
      "2023-01-25 23:22:30,528 INFO Request is completed\n",
      "2023-01-25 23:22:30,539 INFO Downloading https://download-0012-clone.copernicus-climate.eu/cache-compute-0012/cache/data5/adaptor.mars.internal-1674684673.6415977-31645-7-60766a7a-62e3-4a3a-a99d-9648da1c710e.nc to Z:\\Massendaten\\ERA5\\ERA5-hourly-single-levels_2009.nc (16.9G)\n",
      "2023-01-26 00:23:28,162 INFO Download rate 4.7M/s     \n",
      "2023-01-26 00:23:28,759 INFO Successfully downloaded ERA5-hourly-single-levels_2009.nc\n",
      "2023-01-26 00:23:28,759 INFO Checking if ERA5-hourly-single-levels_2010.nc already exists\n",
      "2023-01-26 00:23:28,774 INFO File already exists!\n",
      "2023-01-26 00:23:28,774 INFO Checking if ERA5-hourly-single-levels_2011.nc already exists\n",
      "2023-01-26 00:23:28,774 INFO File already exists!\n",
      "2023-01-26 00:23:28,774 INFO Checking if ERA5-hourly-single-levels_2012.nc already exists\n",
      "2023-01-26 00:23:28,774 INFO File already exists!\n",
      "2023-01-26 00:23:28,774 INFO Checking if ERA5-hourly-single-levels_2013.nc already exists\n",
      "2023-01-26 00:23:28,774 INFO File already exists!\n",
      "2023-01-26 00:23:28,774 INFO Checking if ERA5-hourly-single-levels_2014.nc already exists\n",
      "2023-01-26 00:23:28,781 INFO File already exists!\n",
      "2023-01-26 00:23:28,781 INFO Checking if ERA5-hourly-single-levels_2015.nc already exists\n",
      "2023-01-26 00:23:28,781 INFO File already exists!\n",
      "2023-01-26 00:23:28,781 INFO Checking if ERA5-hourly-single-levels_2016.nc already exists\n",
      "2023-01-26 00:23:28,781 INFO Trying to download ERA5-hourly-single-levels_2016.nc\n",
      "2023-01-26 00:23:28,822 INFO Welcome to the CDS\n",
      "2023-01-26 00:23:28,822 INFO Sending request to https://cds.climate.copernicus.eu/api/v2/resources/reanalysis-era5-single-levels\n",
      "2023-01-26 00:23:29,042 INFO Downloading https://download-0020.copernicus-climate.eu/cache-compute-0020/cache/data4/adaptor.mars.internal-1674571946.8529058-9928-15-b3d34e26-bf7a-4a36-8c0c-8f12608c4095.nc to Z:\\Massendaten\\ERA5\\ERA5-hourly-single-levels_2016.nc (17G)\n",
      "2023-01-26 01:16:59,893 INFO Download rate 5.4M/s     \n",
      "2023-01-26 01:17:00,332 INFO Successfully downloaded ERA5-hourly-single-levels_2016.nc\n",
      "2023-01-26 01:17:00,332 INFO Successfully processed all requests!\n"
     ]
    },
    {
     "name": "stdout",
     "output_type": "stream",
     "text": [
      "CPU times: total: 8min 1s\n",
      "Wall time: 7h 49min\n"
     ]
    }
   ],
   "source": [
    "%%time\n",
    "download_era5(1994, 2016, r\"Z:\\Massendaten\\ERA5\", variable=\"total_precipitation\")"
   ]
  },
  {
   "cell_type": "code",
   "execution_count": null,
   "outputs": [],
   "source": [],
   "metadata": {
    "collapsed": false
   }
  }
 ],
 "metadata": {
  "kernelspec": {
   "display_name": "Python 3 (ipykernel)",
   "language": "python",
   "name": "python3"
  },
  "language_info": {
   "codemirror_mode": {
    "name": "ipython",
    "version": 3
   },
   "file_extension": ".py",
   "mimetype": "text/x-python",
   "name": "python",
   "nbconvert_exporter": "python",
   "pygments_lexer": "ipython3",
   "version": "3.8.15"
  }
 },
 "nbformat": 4,
 "nbformat_minor": 5
}
