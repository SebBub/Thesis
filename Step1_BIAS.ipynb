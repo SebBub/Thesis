{
 "cells": [
  {
   "cell_type": "markdown",
   "source": [
    "# Bias assessment and correction\n",
    "This notebook analysis the unconditional bias of total precipitation for each calendar month, comparing daily SEAS5 and ERA5 data."
   ],
   "metadata": {
    "collapsed": false
   }
  },
  {
   "cell_type": "code",
   "execution_count": null,
   "outputs": [],
   "source": [
    "* MVA Manzanas et al., “Bias Adjustment and Ensemble Recalibration Methods for Seasonal Forecasting.” looks promising... check what's implemented in climpred! Make sure that cross-validation is used!\n",
    "* Doblas-Reyes, Hagedorn, and Palmer, “The Rationale behind the Success of Multi-Model Ensembles in Seasonal Forecasting - II. Calibration and Combination.” --> they calibrate model **anomalies** using observed anomalies... not a preceding bias correction and then claibration...\n",
    "* check multiplicative bias https://climpred.readthedocs.io/en/stable/metrics.html#multiplicative-bias\n",
    "* [It’s safest to do anything like climatology removal before constructing climpred objects](https://climpred.readthedocs.io/en/stable/prediction-ensemble-object.html) -> In short, any sort of bias correcting or drift correction can also be done **prior** to instantiating a PredictionEnsemble object.\n",
    "* do bias correction before actual skill computation\n",
    "* Check the SYDRO notebook on bias correction\n",
    "* https://climpred.readthedocs.io/en/stable/api/climpred.classes.HindcastEnsemble.remove_bias.html#climpred.classes.HindcastEnsemble.remove_bias\n",
    "    * how to apply a simple bias correction to the precipitation dataset?\n",
    "    * it wraps from XCLIM!\n",
    "    * https://climpred.readthedocs.io/en/stable/bias_removal.html\n"
   ],
   "metadata": {
    "collapsed": false
   }
  }
 ],
 "metadata": {
  "kernelspec": {
   "display_name": "Python 3",
   "language": "python",
   "name": "python3"
  },
  "language_info": {
   "codemirror_mode": {
    "name": "ipython",
    "version": 2
   },
   "file_extension": ".py",
   "mimetype": "text/x-python",
   "name": "python",
   "nbconvert_exporter": "python",
   "pygments_lexer": "ipython2",
   "version": "2.7.6"
  }
 },
 "nbformat": 4,
 "nbformat_minor": 0
}
