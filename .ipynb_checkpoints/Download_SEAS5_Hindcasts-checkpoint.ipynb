{
 "cells": [
  {
   "cell_type": "markdown",
   "id": "6c61d41a",
   "metadata": {},
   "source": [
    "# Download data\n",
    "\n",
    "- **area:**<br> At first, specify the area for which you want to sub-set the SEAS5 dataset. This is important as otherwise you would download the global data, which is very large. Refer to syntax of CDS API, refer to https://cds.climate.copernicus.eu/cdsapp#!/dataset/seasonal-original-single-levels?tab=form and submit exemplary request.<br>\n",
    "<br>\n",
    "- **form:** <br>Then you need to specify the dataformat, can be either \"grib\" or \"netcdf\". Grib is more difficult to work with but __[Felix](https://github.com/jamaa)__ managed to get it to work with https://github.com/ecmwf/cfgrib and https://github.com/sydroconsult/eccodes-build-windows.<br>\n",
    "<br>\n",
    "- **grid**:<br>This is an important setting. SEAS5 data is by default provided interpolated to a regular 1°x1° grid. The original data however is computed on finer grids (model physics on 0320 and dynamics on T319, refer tp __[SEAS5 user guide](https://www.ecmwf.int/sites/default/files/elibrary/2021/81237-seas5-user-guide_1.pdf)__. To retrieve the data on the original grids, you can specify the \"grid\" keyword: try \"O320\"<br>\n",
    "<br>\n",
    "- **system:** <br>You need to be careful about the system, read here: https://confluence.ecmwf.int/display/CKB/Announcements. For operational use and hindcast it should be set to the new system, i.e. 5.1 (set to \"51\"). At the time of writing (10.01.2023) however not all start months for the hindcast period of the new system 5.1 were already uploaded to Copernicus Data Store (CDS). Therefore I downloaded the data for system 5 instead.<br>\n",
    "<br>\n",
    "- **variable:** <br>List of variables. For syntax refer to CDS data request form.<br>\n",
    "<br>\n",
    "- **year**<br>Specify a list of strings of the years you want to download. Check the range of available hindcast / forecast years before on CDS.<br>\n",
    "<br>\n",
    "- **month:** <br>Same for the start months of the forecasts (it is initialised and integrated every 1st day of every month)!<br>\n",
    "<br>\n",
    "\n",
    "**<span style=\"color:red\">Currently all lead times are downloaded by default. Modify original code in *Download_CDS_Seasonal.py* if you need shorter lead times only!</span>**\n",
    "\n",
    "## <span style=\"color:red\">Important</span>\n",
    "Note these important aspects for data retrieval and performance!\n",
    "https://confluence.ecmwf.int/display/CKB/Recommendations+and+efficiency+tips+for+C3S+seasonal+forecast+datasets\n",
    "### Important considerations\n",
    "- *\"Do NOT ask for different start months in the same request when retrieving data from the \"daily\" datasets.\"*"
   ]
  },
  {
   "cell_type": "code",
   "execution_count": 3,
   "id": "93981389",
   "metadata": {},
   "outputs": [],
   "source": [
    "from Download_CDS_Seasonal import download_seasonal# import the module with the download functions\n",
    "area = [55, 5, 47, 15, ] #lon west, lat south, lon east, lat north, here a rectangular area over Thuringia\n",
    "form = \"grib\"\n",
    "grid = \"O320\"\n",
    "system = \"5\"\n",
    "variable = \"total_precipitation\"\n",
    "years = [\"2011\"]\n",
    "months = [\"01\",]# \"02\", \"03\",\"04\", \"05\", \"06\",\"07\", \"08\", \"09\",\"10\", \"11\", \"12\",] # all start months\n",
    "path = r\"Z:\\Massendaten\\ECMWF\\SEAS5\""
   ]
  },
  {
   "cell_type": "code",
   "execution_count": 5,
   "id": "deeb3ae5",
   "metadata": {},
   "outputs": [
    {
     "name": "stderr",
     "output_type": "stream",
     "text": [
      "2023-01-10 17:25:21,655 INFO Welcome to the CDS\n",
      "2023-01-10 17:25:21,671 INFO Sending request to https://cds.climate.copernicus.eu/api/v2/resources/seasonal-original-single-levels\n",
      "2023-01-10 17:25:21,750 INFO Request is queued\n",
      "2023-01-10 17:25:22,817 INFO Request is running\n",
      "2023-01-10 17:26:37,051 INFO Request is completed\n",
      "2023-01-10 17:26:37,051 INFO Downloading https://download-0007-clone.copernicus-climate.eu/cache-compute-0007/cache/data7/adaptor.mars.external-1673367922.4710324-19548-10-5abc8587-4795-4a32-980f-b75d534eef73.grib to Z:\\Massendaten\\ECMWF\\SEAS5\\system_5_seasonal-monthly-single-levels_2011_01_total_precipitation_O320.grib (6.2M)\n",
      "2023-01-10 17:26:38,563 INFO Download rate 4.1M/s   \n"
     ]
    }
   ],
   "source": [
    "# kick off the download\n",
    "download_seasonal(system, area, grid, form, variable, years, months, path)"
   ]
  },
  {
   "cell_type": "markdown",
   "id": "3c51a1cd",
   "metadata": {},
   "source": [
    "# ToDo\n",
    "- add logging to *Download_CDS_Seasonal.py*\n",
    "- add logging to this workbook and display the results\n",
    "- maybe add a progress bar?"
   ]
  },
  {
   "cell_type": "markdown",
   "id": "b012463b",
   "metadata": {},
   "source": [
    "# Important links\n",
    "- https://cds.climate.copernicus.eu/live/limits\n",
    "- https://confluence.ecmwf.int/display/CKB/C3S+Documentation+Centre\n",
    "- https://confluence.ecmwf.int/display/CKB/Recommendations+and+efficiency+tips+for+C3S+seasonal+forecast+datasets"
   ]
  },
  {
   "cell_type": "code",
   "execution_count": null,
   "id": "35bfc92e",
   "metadata": {},
   "outputs": [],
   "source": []
  }
 ],
 "metadata": {
  "kernelspec": {
   "display_name": "Python 3 (ipykernel)",
   "language": "python",
   "name": "python3"
  },
  "language_info": {
   "codemirror_mode": {
    "name": "ipython",
    "version": 3
   },
   "file_extension": ".py",
   "mimetype": "text/x-python",
   "name": "python",
   "nbconvert_exporter": "python",
   "pygments_lexer": "ipython3",
   "version": "3.8.15"
  }
 },
 "nbformat": 4,
 "nbformat_minor": 5
}
