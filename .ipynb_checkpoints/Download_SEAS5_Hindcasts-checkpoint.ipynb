{
 "cells": [
  {
   "cell_type": "markdown",
   "id": "6c61d41a",
   "metadata": {},
   "source": [
    "# Download data\n",
    "\n",
    "- **area:**<br> At first, specify the area for which you want to sub-set the SEAS5 dataset. This is important as otherwise you would download the global data, which is very large. Refer to syntax of CDS API, refer to https://cds.climate.copernicus.eu/cdsapp#!/dataset/seasonal-original-single-levels?tab=form and submit exemplary request.<br>\n",
    "<br>\n",
    "- **form:** <br>Then you need to specify the dataformat, can be either \"grib\" or \"netcdf\". Grib is more difficult to work with but __[Felix](https://github.com/jamaa)__ managed to get it to work with https://github.com/ecmwf/cfgrib and https://github.com/sydroconsult/eccodes-build-windows.<br>\n",
    "<br>\n",
    "- **grid**:<br>This is an important setting. SEAS5 data is by default provided interpolated to a regular 1°x1° grid. The original data however is computed on finer grids (model physics on 0320 and dynamics on T319, refer tp __[SEAS5 user guide](https://www.ecmwf.int/sites/default/files/elibrary/2021/81237-seas5-user-guide_1.pdf)__. Whilst data could be provided on the original grids, e.g. O320, it is still not clear to me if that is then actually the original data or if it was interpolated from another grid the data was stored on.<br>\n",
    "<br>\n",
    "- **system:** <br>You need to be careful about the system, read here: https://confluence.ecmwf.int/display/CKB/Announcements. For operational use and hindcast it should be set to the new system, i.e. 5.1 (set to \"51\"). At the time of writing (10.01.2023) however not all start months for the hindcast period of the new system 5.1 were already uploaded to Copernicus Data Store (CDS). Therefore I downloaded the data for system 5 instead.<br>\n",
    "<br>\n",
    "- **variable:** <br>List of variables. For syntax refer to CDS data request form.<br>\n",
    "<br>\n",
    "- **year**<br>Specify a list of strings of the years you want to download. Check the range of available hindcast / forecast years before on CDS.<br>\n",
    "<br>\n",
    "- **month:** <br>Same for the start months of the forecasts (it is initialised and integrated every 1st day of every month)!<br>\n",
    "<br>\n",
    "\n",
    "**<span style=\"color:red\">Currently all lead times are downloaded by default. Modify original code in *Download_CDS_Seasonal.py* if you need shorter lead times only!</span>**\n",
    "\n",
    "## <span style=\"color:red\">Important</span>\n",
    "Note these important aspects for data retrieval and performance!\n",
    "https://confluence.ecmwf.int/display/CKB/Recommendations+and+efficiency+tips+for+C3S+seasonal+forecast+datasets\n",
    "### Important considerations\n",
    "- *\"Do NOT ask for different start months in the same request when retrieving data from the \"daily\" datasets.\"*"
   ]
  },
  {
   "cell_type": "code",
   "execution_count": 3,
   "id": "93981389",
   "metadata": {},
   "outputs": [
    {
     "name": "stdout",
     "output_type": "stream",
     "text": [
      "Downloading for years \n",
      " ['1994', '1995', '1996', '1997', '1998', '1999', '2000', '2001', '2002', '2003', '2004', '2005', '2006', '2007', '2008', '2009', '2010', '2011', '2012', '2013', '2014', '2015', '2016']\n"
     ]
    }
   ],
   "source": [
    "from Download_CDS_Seasonal import download_seasonal# import the module with the download functions\n",
    "#area = [55, 5, 47, 15, ] #lon west, lat south, lon east, lat north, here a\n",
    "# rectangular area over Thuringia\n",
    "form = \"netcdf\"\n",
    "#grid = #\"O320\"\n",
    "system = \"5\"\n",
    "variable = \"total_precipitation\"\n",
    "startyear = 1994\n",
    "endyear = 2016\n",
    "years = []\n",
    "for year in range(startyear,endyear+1):\n",
    "    years.append(str(year))\n",
    "months = [\"01\", \"02\", \"03\",\"04\", \"05\", \"06\",\"07\", \"08\", \"09\",\"10\", \"11\", \"12\",] # all start months\n",
    "path = r\"D:\\Massendaten\\ECMWF\\SEAS5_Global\"\n",
    "print(f\"Downloading for years \\n {years}\")\n",
    "area = None"
   ]
  },
  {
   "cell_type": "code",
   "execution_count": 4,
   "id": "deeb3ae5",
   "metadata": {},
   "outputs": [
    {
     "ename": "TypeError",
     "evalue": "expected str, bytes or os.PathLike object, not list",
     "output_type": "error",
     "traceback": [
      "\u001b[1;31m---------------------------------------------------------------------------\u001b[0m",
      "\u001b[1;31mTypeError\u001b[0m                                 Traceback (most recent call last)",
      "Cell \u001b[1;32mIn[4], line 2\u001b[0m\n\u001b[0;32m      1\u001b[0m \u001b[38;5;66;03m# kick off the download\u001b[39;00m\n\u001b[1;32m----> 2\u001b[0m \u001b[43mdownload_seasonal\u001b[49m\u001b[43m(\u001b[49m\u001b[43msystem\u001b[49m\u001b[43m,\u001b[49m\u001b[43m \u001b[49m\u001b[43marea\u001b[49m\u001b[43m,\u001b[49m\u001b[43m \u001b[49m\u001b[43mform\u001b[49m\u001b[43m,\u001b[49m\u001b[43m \u001b[49m\u001b[43mvariable\u001b[49m\u001b[43m,\u001b[49m\u001b[43m \u001b[49m\u001b[43myears\u001b[49m\u001b[43m,\u001b[49m\u001b[43m \u001b[49m\u001b[43mmonths\u001b[49m\u001b[43m,\u001b[49m\u001b[43m \u001b[49m\u001b[43mpath\u001b[49m\u001b[43m)\u001b[49m\n",
      "File \u001b[1;32m~\\Documents\\Scripts\\Thesis\\Python\\Download_CDS_Seasonal.py:23\u001b[0m, in \u001b[0;36mdownload_seasonal\u001b[1;34m(system, form, variable, years, months, path, grid, area)\u001b[0m\n\u001b[0;32m     15\u001b[0m \u001b[38;5;28;01mdef\u001b[39;00m \u001b[38;5;21mdownload_seasonal\u001b[39m(system, form, variable, years, months, path, grid\u001b[38;5;241m=\u001b[39m\u001b[38;5;28;01mNone\u001b[39;00m, area\u001b[38;5;241m=\u001b[39m\u001b[38;5;28;01mNone\u001b[39;00m):\n\u001b[0;32m     16\u001b[0m \u001b[38;5;250m    \u001b[39m\u001b[38;5;124;03m\"\"\" Downloads data on single levels, i.e. surface variables.\u001b[39;00m\n\u001b[0;32m     17\u001b[0m \u001b[38;5;124;03m    #TODO\u001b[39;00m\n\u001b[0;32m     18\u001b[0m \u001b[38;5;124;03m    :param system:\u001b[39;00m\n\u001b[1;32m   (...)\u001b[0m\n\u001b[0;32m     21\u001b[0m \u001b[38;5;124;03m    :return:\u001b[39;00m\n\u001b[0;32m     22\u001b[0m \u001b[38;5;124;03m    \"\"\"\u001b[39;00m\n\u001b[1;32m---> 23\u001b[0m     path \u001b[38;5;241m=\u001b[39m \u001b[43mPath\u001b[49m\u001b[43m(\u001b[49m\u001b[43mpath\u001b[49m\u001b[43m)\u001b[49m\n\u001b[0;32m     25\u001b[0m     logging\u001b[38;5;241m.\u001b[39minfo(\u001b[38;5;124mf\u001b[39m\u001b[38;5;124m\"\u001b[39m\u001b[38;5;124mAttempting to download \u001b[39m\u001b[38;5;132;01m{\u001b[39;00mform\u001b[38;5;132;01m}\u001b[39;00m\u001b[38;5;124m files for months \u001b[39m\u001b[38;5;132;01m{\u001b[39;00mmonths\u001b[38;5;132;01m}\u001b[39;00m\u001b[38;5;124m in years \u001b[39m\u001b[38;5;132;01m{\u001b[39;00myears[\u001b[38;5;241m0\u001b[39m]\u001b[38;5;132;01m}\u001b[39;00m\u001b[38;5;124m to \u001b[39m\u001b[38;5;132;01m{\u001b[39;00myears[\u001b[38;5;241m-\u001b[39m\u001b[38;5;241m1\u001b[39m]\u001b[38;5;132;01m}\u001b[39;00m\u001b[38;5;124m \u001b[39m\u001b[38;5;130;01m\\n\u001b[39;00m\u001b[38;5;124m\"\u001b[39m)\n\u001b[0;32m     27\u001b[0m     \u001b[38;5;28;01mfor\u001b[39;00m year \u001b[38;5;129;01min\u001b[39;00m years:  \u001b[38;5;66;03m# to split up on more single requests\u001b[39;00m\n",
      "File \u001b[1;32m~\\.conda\\envs\\Thesis2\\lib\\pathlib.py:1042\u001b[0m, in \u001b[0;36mPath.__new__\u001b[1;34m(cls, *args, **kwargs)\u001b[0m\n\u001b[0;32m   1040\u001b[0m \u001b[38;5;28;01mif\u001b[39;00m \u001b[38;5;28mcls\u001b[39m \u001b[38;5;129;01mis\u001b[39;00m Path:\n\u001b[0;32m   1041\u001b[0m     \u001b[38;5;28mcls\u001b[39m \u001b[38;5;241m=\u001b[39m WindowsPath \u001b[38;5;28;01mif\u001b[39;00m os\u001b[38;5;241m.\u001b[39mname \u001b[38;5;241m==\u001b[39m \u001b[38;5;124m'\u001b[39m\u001b[38;5;124mnt\u001b[39m\u001b[38;5;124m'\u001b[39m \u001b[38;5;28;01melse\u001b[39;00m PosixPath\n\u001b[1;32m-> 1042\u001b[0m \u001b[38;5;28mself\u001b[39m \u001b[38;5;241m=\u001b[39m \u001b[38;5;28;43mcls\u001b[39;49m\u001b[38;5;241;43m.\u001b[39;49m\u001b[43m_from_parts\u001b[49m\u001b[43m(\u001b[49m\u001b[43margs\u001b[49m\u001b[43m,\u001b[49m\u001b[43m \u001b[49m\u001b[43minit\u001b[49m\u001b[38;5;241;43m=\u001b[39;49m\u001b[38;5;28;43;01mFalse\u001b[39;49;00m\u001b[43m)\u001b[49m\n\u001b[0;32m   1043\u001b[0m \u001b[38;5;28;01mif\u001b[39;00m \u001b[38;5;129;01mnot\u001b[39;00m \u001b[38;5;28mself\u001b[39m\u001b[38;5;241m.\u001b[39m_flavour\u001b[38;5;241m.\u001b[39mis_supported:\n\u001b[0;32m   1044\u001b[0m     \u001b[38;5;28;01mraise\u001b[39;00m \u001b[38;5;167;01mNotImplementedError\u001b[39;00m(\u001b[38;5;124m\"\u001b[39m\u001b[38;5;124mcannot instantiate \u001b[39m\u001b[38;5;132;01m%r\u001b[39;00m\u001b[38;5;124m on your system\u001b[39m\u001b[38;5;124m\"\u001b[39m\n\u001b[0;32m   1045\u001b[0m                               \u001b[38;5;241m%\u001b[39m (\u001b[38;5;28mcls\u001b[39m\u001b[38;5;241m.\u001b[39m\u001b[38;5;18m__name__\u001b[39m,))\n",
      "File \u001b[1;32m~\\.conda\\envs\\Thesis2\\lib\\pathlib.py:683\u001b[0m, in \u001b[0;36mPurePath._from_parts\u001b[1;34m(cls, args, init)\u001b[0m\n\u001b[0;32m    678\u001b[0m \u001b[38;5;129m@classmethod\u001b[39m\n\u001b[0;32m    679\u001b[0m \u001b[38;5;28;01mdef\u001b[39;00m \u001b[38;5;21m_from_parts\u001b[39m(\u001b[38;5;28mcls\u001b[39m, args, init\u001b[38;5;241m=\u001b[39m\u001b[38;5;28;01mTrue\u001b[39;00m):\n\u001b[0;32m    680\u001b[0m     \u001b[38;5;66;03m# We need to call _parse_args on the instance, so as to get the\u001b[39;00m\n\u001b[0;32m    681\u001b[0m     \u001b[38;5;66;03m# right flavour.\u001b[39;00m\n\u001b[0;32m    682\u001b[0m     \u001b[38;5;28mself\u001b[39m \u001b[38;5;241m=\u001b[39m \u001b[38;5;28mobject\u001b[39m\u001b[38;5;241m.\u001b[39m\u001b[38;5;21m__new__\u001b[39m(\u001b[38;5;28mcls\u001b[39m)\n\u001b[1;32m--> 683\u001b[0m     drv, root, parts \u001b[38;5;241m=\u001b[39m \u001b[38;5;28;43mself\u001b[39;49m\u001b[38;5;241;43m.\u001b[39;49m\u001b[43m_parse_args\u001b[49m\u001b[43m(\u001b[49m\u001b[43margs\u001b[49m\u001b[43m)\u001b[49m\n\u001b[0;32m    684\u001b[0m     \u001b[38;5;28mself\u001b[39m\u001b[38;5;241m.\u001b[39m_drv \u001b[38;5;241m=\u001b[39m drv\n\u001b[0;32m    685\u001b[0m     \u001b[38;5;28mself\u001b[39m\u001b[38;5;241m.\u001b[39m_root \u001b[38;5;241m=\u001b[39m root\n",
      "File \u001b[1;32m~\\.conda\\envs\\Thesis2\\lib\\pathlib.py:667\u001b[0m, in \u001b[0;36mPurePath._parse_args\u001b[1;34m(cls, args)\u001b[0m\n\u001b[0;32m    665\u001b[0m     parts \u001b[38;5;241m+\u001b[39m\u001b[38;5;241m=\u001b[39m a\u001b[38;5;241m.\u001b[39m_parts\n\u001b[0;32m    666\u001b[0m \u001b[38;5;28;01melse\u001b[39;00m:\n\u001b[1;32m--> 667\u001b[0m     a \u001b[38;5;241m=\u001b[39m \u001b[43mos\u001b[49m\u001b[38;5;241;43m.\u001b[39;49m\u001b[43mfspath\u001b[49m\u001b[43m(\u001b[49m\u001b[43ma\u001b[49m\u001b[43m)\u001b[49m\n\u001b[0;32m    668\u001b[0m     \u001b[38;5;28;01mif\u001b[39;00m \u001b[38;5;28misinstance\u001b[39m(a, \u001b[38;5;28mstr\u001b[39m):\n\u001b[0;32m    669\u001b[0m         \u001b[38;5;66;03m# Force-cast str subclasses to str (issue #21127)\u001b[39;00m\n\u001b[0;32m    670\u001b[0m         parts\u001b[38;5;241m.\u001b[39mappend(\u001b[38;5;28mstr\u001b[39m(a))\n",
      "\u001b[1;31mTypeError\u001b[0m: expected str, bytes or os.PathLike object, not list"
     ]
    }
   ],
   "source": [
    "# kick off the download\n",
    "download_seasonal(system, area, form, variable, years, months, path)"
   ]
  },
  {
   "cell_type": "markdown",
   "id": "3c51a1cd",
   "metadata": {},
   "source": [
    "# ToDo\n",
    "- add logging to *Download_CDS_Seasonal.py*\n",
    "- add logging to this workbook and display the results\n",
    "- maybe add a progress bar?"
   ]
  },
  {
   "cell_type": "markdown",
   "id": "b012463b",
   "metadata": {},
   "source": [
    "# Important links\n",
    "- https://cds.climate.copernicus.eu/live/limits\n",
    "- https://confluence.ecmwf.int/display/CKB/C3S+Documentation+Centre\n",
    "- https://confluence.ecmwf.int/display/CKB/Recommendations+and+efficiency+tips+for+C3S+seasonal+forecast+datasets\n",
    "    - grid=av returns data on original grid!"
   ]
  },
  {
   "cell_type": "code",
   "execution_count": null,
   "id": "35bfc92e",
   "metadata": {},
   "outputs": [],
   "source": []
  }
 ],
 "metadata": {
  "kernelspec": {
   "display_name": "Python 3 (ipykernel)",
   "language": "python",
   "name": "python3"
  },
  "language_info": {
   "codemirror_mode": {
    "name": "ipython",
    "version": 3
   },
   "file_extension": ".py",
   "mimetype": "text/x-python",
   "name": "python",
   "nbconvert_exporter": "python",
   "pygments_lexer": "ipython3",
   "version": "3.8.15"
  }
 },
 "nbformat": 4,
 "nbformat_minor": 5
}
