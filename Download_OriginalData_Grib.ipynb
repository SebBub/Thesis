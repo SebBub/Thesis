{
 "cells": [
  {
   "cell_type": "code",
   "execution_count": 1,
   "id": "059fea50",
   "metadata": {},
   "outputs": [],
   "source": [
    "# setup logging to see messages from the Download_CDS_Seasonal.py module the notebook\n",
    "import logging\n",
    "# create a console handler (we do not need a file handler here, as we just want to print to executing notebook)\n",
    "ch = logging.StreamHandler()\n",
    "ch.setLevel(logging.INFO)\n",
    "# add formatters to the handler\n",
    "ch.setFormatter(logging.Formatter('%(name)-12s %(levelname)-8s %(message)s'))\n",
    "# config\n",
    "logging.basicConfig(\n",
    "    level=logging.NOTSET,\n",
    "    handlers=[ch],\n",
    "    force=True)"
   ]
  },
  {
   "cell_type": "code",
   "execution_count": 2,
   "id": "25f8105f",
   "metadata": {},
   "outputs": [],
   "source": [
    "from Download_CDS_Seasonal import download_seasonal# import the module with the download functions\n",
    "area = [55, 5, 47, 15, ] #lon west, lat south, lon east, lat north, here a rectangular area over Thuringia\n",
    "form = \"netcdf\"\n",
    "grid = \"av\"\n",
    "system = \"5\"\n",
    "variable = \"total_precipitation\"\n",
    "startyear = 2001\n",
    "endyear = 2001\n",
    "years = []\n",
    "for year in range(startyear,endyear+1):\n",
    "    years.append(str(year))\n",
    "months = [\"01\",]# \"02\", \"03\",\"04\", \"05\", \"06\",\"07\", \"08\", \"09\",\"10\", \"11\", \"12\",] # all start months\n",
    "path = r\"Z:\\Massendaten\\ECMWF\\SEAS5\\O320\""
   ]
  },
  {
   "cell_type": "code",
   "execution_count": 3,
   "id": "4e01ec90",
   "metadata": {},
   "outputs": [
    {
     "name": "stderr",
     "output_type": "stream",
     "text": [
      "Download_CDS_Seasonal INFO     Changed grid to grib to retrieve data in original grid!\n",
      "Download_CDS_Seasonal INFO     Checking if system_5_seasonal-monthly-single-levels_2001_01_total_precipitation.grib already exists\n",
      "Download_CDS_Seasonal INFO     Trying to download system_5_seasonal-monthly-single-levels_2001_01_total_precipitation.grib\n",
      "Download_CDS_Seasonal INFO     Downloading in original resolution!\n",
      "cdsapi       INFO     Welcome to the CDS\n",
      "cdsapi       INFO     Sending request to https://cds.climate.copernicus.eu/api/v2/resources/seasonal-original-single-levels\n",
      "cdsapi       INFO     Request is queued\n",
      "cdsapi       INFO     Request is running\n",
      "cdsapi       INFO     Request is completed\n",
      "cdsapi       INFO     Downloading https://download-0016.copernicus-climate.eu/cache-compute-0016/cache/data1/adaptor.mars.external-1673453637.6562648-1888-10-9f4d7f03-5455-4a6f-87d9-43f9aaa2c5fb.grib to Z:\\Massendaten\\ECMWF\\SEAS5\\O320\\system_5_seasonal-monthly-single-levels_2001_01_total_precipitation.grib (1.8M)\n",
      "cdsapi       INFO     Download rate 956.8K/s        \n",
      "Download_CDS_Seasonal INFO     Successfully downloaded system_5_seasonal-monthly-single-levels_2001_01_total_precipitation.grib\n"
     ]
    }
   ],
   "source": [
    "download_seasonal(system, area, grid, form, variable, years, months, path)"
   ]
  },
  {
   "cell_type": "code",
   "execution_count": null,
   "id": "1f6782ca",
   "metadata": {},
   "outputs": [],
   "source": []
  }
 ],
 "metadata": {
  "kernelspec": {
   "display_name": "Python 3 (ipykernel)",
   "language": "python",
   "name": "python3"
  },
  "language_info": {
   "codemirror_mode": {
    "name": "ipython",
    "version": 3
   },
   "file_extension": ".py",
   "mimetype": "text/x-python",
   "name": "python",
   "nbconvert_exporter": "python",
   "pygments_lexer": "ipython3",
   "version": "3.8.15"
  }
 },
 "nbformat": 4,
 "nbformat_minor": 5
}
