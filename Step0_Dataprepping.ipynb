{
 "cells": [
  {
   "cell_type": "code",
   "execution_count": 1,
   "outputs": [
    {
     "name": "stderr",
     "output_type": "stream",
     "text": [
      "C:\\Users\\sb123\\.conda\\envs\\Thesis2\\lib\\site-packages\\tqdm\\auto.py:22: TqdmWarning: IProgress not found. Please update jupyter and ipywidgets. See https://ipywidgets.readthedocs.io/en/stable/user_install.html\n",
      "  from .autonotebook import tqdm as notebook_tqdm\n"
     ]
    }
   ],
   "source": [
    "import xarray as xr\n",
    "import numpy as np\n",
    "from pathlib import Path\n",
    "import seaborn as sns\n",
    "import matplotlib.pyplot as plt\n",
    "import cartopy.crs as ccrs\n",
    "import cartopy.feature as cfeature\n",
    "from tqdm import tqdm\n",
    "import shutil\n",
    "\n",
    "\n",
    "import logging\n",
    "logger = logging.getLogger()\n",
    "logger.setLevel(logging.INFO)\n",
    "\n",
    "from Dataprocessing import get_daily_tp_rate, prep_hindcast, crop_netCDF\n",
    "\n",
    "# from verification import get_inits, load_hindcast_data, load_verification_data\n",
    "from climpred.preprocessing.shared import set_integer_time_axis\n",
    "from climpred import HindcastEnsemble\n",
    "# from climpred.utils import convert_init_lead_to_valid_time_lead"
   ],
   "metadata": {
    "collapsed": false
   }
  },
  {
   "cell_type": "markdown",
   "source": [
    "## Reading and pre-processing observations\n",
    "Read in \"quasi-observations\" from ERA5, which have been (conservatively) regridded from 0.25°x0.25° latlon to 1°x1° latlon (using MPI CDO), cropped to the spatial domain of interest (5 - 15W and 47 to 55N) and also aggregated (sum) from hourly to daily values by using function Dataprocessing.ERA5_hourly_daily()."
   ],
   "metadata": {
    "collapsed": false
   }
  },
  {
   "cell_type": "code",
   "execution_count": 6,
   "outputs": [
    {
     "name": "stdout",
     "output_type": "stream",
     "text": [
      "Data amount of ERA5 seems to be OK to handle: 831699 datapoints. Shape: (8401, 9, 11)\n",
      "\n",
      "The ERA5 data still contains some very small negative values, which are replaced with zeros in the next step:\n",
      "-8.940698171500117e-05 \n",
      "\n",
      "0.024 percent of the gridpoints have negative values\n",
      "Now the data looks good\n",
      "Max. daily precipitation: 94.08016967773438\n",
      "Min. daily precipitation: 0.0 \n",
      "\n",
      "CPU times: total: 297 ms\n",
      "Wall time: 1.1 s\n"
     ]
    },
    {
     "data": {
      "text/plain": "<Figure size 640x480 with 1 Axes>",
      "image/png": "[encoded data removed]"
     },
     "metadata": {},
     "output_type": "display_data"
    }
   ],
   "source": [
    "%%time\n",
    "obs = xr.open_mfdataset(r\"E:\\Massendaten\\ERA5\\Cropped\\Daily\\Regrid\\*.nc\", chunks=\"auto\")[\"tp\"]\n",
    "\n",
    "\n",
    "print(f\"Data amount of ERA5 seems to be OK to handle: {obs.size} datapoints. Shape: {obs.shape}\\n\")\n",
    "attrs = obs.attrs\n",
    "obs = obs * 1000 #Careful: Attrs are dropped when doing basic arithmetics: https://github.com/pydata/xarray/issues/1271\n",
    "obs.attrs = attrs\n",
    "obs.attrs[\"units\"] = \"mm\" #update the unit\n",
    "\n",
    "# https://confluence.ecmwf.int/display/UDOC/Why+are+there+sometimes+small+negative+precipitation+accumulations+-+ecCodes+GRIB+FAQ\n",
    "print(\"The ERA5 data still contains some very small negative values, which are replaced with zeros in the next step:\")\n",
    "print(f\"{obs.values.min()} \\n\")\n",
    "print(f\"{round(np.count_nonzero(obs.values < 0) / obs.size,3)} percent of the gridpoints have negative values\")\n",
    "\n",
    "# I did not find a straightforward way of replacing all negative pr values with zeros in Xarray. Workaround:\n",
    "obs = obs.where(obs > 0) # negative values to NAN\n",
    "obs = obs.fillna(0) # NaNs to 0\n",
    "print(\"Now the data looks good\")\n",
    "print(f\"Max. daily precipitation: {obs.max().values}\")\n",
    "print(f\"Min. daily precipitation: {obs.min().values} \\n\")\n",
    "\n",
    "fig, ax = plt.subplots()\n",
    "sns.histplot(obs.values.flat, ax=ax, bins=100)\n",
    "ax.set_xlim(left=0)\n",
    "ax.set(title=\"ERA5 tp histogram\")\n",
    "\n",
    "# Store obs in .nc file\n",
    "obs.to_netcdf(r\"E:\\Massendaten\\ERA5\\Cropped\\Daily\\Regrid\\Final\\Observations_fin.nc\")"
   ],
   "metadata": {
    "collapsed": false
   }
  },
  {
   "cell_type": "markdown",
   "source": [
    "## Reading and pre-processing SEAS5 model data\n",
    "### Crop\n",
    "At first a box of lat 47 - 55N and lon 5 - 15E will be cropped."
   ],
   "metadata": {
    "collapsed": false
   }
  },
  {
   "cell_type": "code",
   "execution_count": null,
   "outputs": [],
   "source": [
    "%%time\n",
    "crop_netCDF(r\"D:\\Massendaten\\ECMWF\\SEAS5_Global\", 47, 55, 5, 15, globpat=\"*_total_precipitation.nc\", to_netcdf=True)"
   ],
   "metadata": {
    "collapsed": false
   }
  },
  {
   "cell_type": "markdown",
   "source": [
    "### Disaggregation\n",
    "Then the accumulated total precipitation data will need to be disaggregated over dim = \"time\". See [ECMWF Conversion table for accumulated variables (total precipitation/fluxes)](https://confluence.ecmwf.int/pages/viewpage.action?pageId=197702790)"
   ],
   "metadata": {
    "collapsed": false
   }
  },
  {
   "cell_type": "code",
   "execution_count": null,
   "outputs": [],
   "source": [
    "%%time\n",
    "get_daily_tp_rate(r\"D:\\Massendaten\\ECMWF\\SEAS5_Global\\Cropped\", r\"D:\\Massendaten\\ECMWF\\SEAS5_Global\\Cropped\\Disaggregated\", globpat=\"*total_precipitation_box.nc\")"
   ],
   "metadata": {
    "collapsed": false
   }
  },
  {
   "cell_type": "markdown",
   "source": [
    "Before analysing the data I run some plausibility checks / compute basic statistics to see if there are any problems with the data. This includes:\n",
    " ### Plotting a histogram over all daily tp values for each file."
   ],
   "metadata": {
    "collapsed": false
   }
  },
  {
   "cell_type": "code",
   "execution_count": 7,
   "outputs": [
    {
     "name": "stderr",
     "output_type": "stream",
     "text": [
      "100%|██████████| 276/276 [03:48<00:00,  1.21it/s]\n"
     ]
    }
   ],
   "source": [
    "path = Path(r\"D:\\Massendaten\\ECMWF\\SEAS5_Global\\Cropped\\Disaggregated\")\n",
    "for file in tqdm(list((path).glob(\"*disaggregated.nc\"))):\n",
    "    da = xr.open_dataset(file, chunks=\"auto\")[\"tp\"]\n",
    "    da *= 1_000\n",
    "    fig, ax = plt.subplots()\n",
    "    sns.histplot(da.stack(all = [\"time\", \"number\", \"latitude\", \"longitude\"]).values, bins = 50, ax=ax)\n",
    "    fig.savefig(path / (file.parts[-1][:-3] + \".png\"), dpi=300)\n",
    "    plt.close()"
   ],
   "metadata": {
    "collapsed": false
   }
  },
  {
   "cell_type": "markdown",
   "source": [
    "The issue with the interspersed histograms with giant outlier values and the rest of the distribution centered on zero persists. This is why for now I filter out all datasets with max() values larger than 300 mm. 20 Files will be discarded (for now). This is identical to the number of figures, where the histogram looks odd.\n",
    "<br>\n",
    "\n",
    "## Pre-processing\n",
    "Now the data needs to be modified so that it complies to the climpred requirements: https://climpred.readthedocs.io/en/stable/setting-up-data.html\n",
    "\n",
    "This includes mostly manipulations to the coords and dims, e.g. converting the time axis to int days lead or adding an init dimension along which the datasets are concatenated, which specifies the initialisation date of each forecast (i.e. the 1st day of each month for SEAS5)."
   ],
   "metadata": {
    "collapsed": false
   }
  },
  {
   "cell_type": "code",
   "execution_count": 9,
   "outputs": [
    {
     "name": "stdout",
     "output_type": "stream",
     "text": [
      "146866500 data points... quite a bit of data! Shape: (276, 25, 9, 11, 215)\n",
      "Just like the observations the forecasts also contain negative pr values:\n",
      "Min. -1.5904903411865234 \n",
      "\n",
      "Now the data looks good\n",
      "Max. daily precipitation: 135.79415893554688\n",
      "Min. daily precipitation: 0.0 \n",
      "\n"
     ]
    },
    {
     "data": {
      "text/plain": "<Figure size 640x480 with 1 Axes>",
      "image/png": "[encoded data removed]"
     },
     "metadata": {},
     "output_type": "display_data"
    }
   ],
   "source": [
    "datasets = []\n",
    "files = list(Path(r\"D:\\Massendaten\\ECMWF\\SEAS5_Global\\Cropped\\Disaggregated\").glob(\"*disaggregated.nc\"))\n",
    "for file in files: # prepare data for climpred\n",
    "    ds = xr.open_dataset(file, chunks=\"auto\")\n",
    "    ds = ds.rename({\"number\": \"member\"})\n",
    "    ds = ds.assign_coords({\"init\": (ds.time.values[0] - np.timedelta64(1, \"D\"))}).expand_dims(\"init\")\n",
    "    ds = set_integer_time_axis(ds)\n",
    "    ds = ds.rename({\"time\": \"lead\"})\n",
    "    ds.lead.attrs[\"units\"] = \"days\"\n",
    "    datasets.append(ds)\n",
    "hc = xr.concat(datasets, dim=\"init\")\n",
    "hc = hc[\"tp\"]\n",
    "attrs = hc.attrs\n",
    "hc *= 1_000 # conversion to mm\n",
    "hc.attrs[\"units\"] = \"mm\" # update unit to mm\n",
    "\n",
    "print(f\"{hc.size} data points... quite a bit of data! Shape: {hc.shape}\")\n",
    "\n",
    "# Deleting of <0 tp values as above:\n",
    "print(\"Just like the observations the forecasts also contain negative pr values:\")\n",
    "print(f\"Min. {hc.min().values} \\n\")\n",
    "hc = hc.where(hc > 0) # negative values to NAN\n",
    "hc = hc.fillna(0)\n",
    "\n",
    "print(\"Now the data looks good\")\n",
    "print(f\"Max. daily precipitation: {hc.max().values}\")\n",
    "print(f\"Min. daily precipitation: {hc.min().values} \\n\")\n",
    "\n",
    "#save to netCDF\n",
    "final_path = Path(r\"D:\\Massendaten\\ECMWF\\SEAS5_Global\\Cropped\\Disaggregated\\Final\")\n",
    "hc.to_netcdf(final_path / \"hindcast.nc\")\n",
    "\n",
    "fig, ax = plt.subplots()\n",
    "sns.histplot(hc.values.flat, ax=ax, bins=100)\n",
    "ax.set_xlim(left=0)\n",
    "ax.set(title=\"SEAS5 tp histogram\")\n",
    "plt.tight_layout()\n",
    "fig.savefig(final_path / \"SEAS5_hindcast_hist.png\", dpi=300)\n",
    "\n",
    "del final_path"
   ],
   "metadata": {
    "collapsed": false
   }
  },
  {
   "cell_type": "markdown",
   "source": [
    "# Terminology\n",
    "As retrieved from [here](https://climpred.readthedocs.io/en/stable/)\n",
    "* **initialized ensemble** the hindcast or forecast DataSet which includes the members\n",
    "* **member** a member of an ensemble (forecast)\n",
    "* See more terminology guidance [here](https://climpred.readthedocs.io/en/stable/terminology.html)"
   ],
   "metadata": {
    "collapsed": false
   }
  }
 ],
 "metadata": {
  "kernelspec": {
   "display_name": "Python 3",
   "language": "python",
   "name": "python3"
  },
  "language_info": {
   "codemirror_mode": {
    "name": "ipython",
    "version": 2
   },
   "file_extension": ".py",
   "mimetype": "text/x-python",
   "name": "python",
   "nbconvert_exporter": "python",
   "pygments_lexer": "ipython2",
   "version": "2.7.6"
  }
 },
 "nbformat": 4,
 "nbformat_minor": 0
}
